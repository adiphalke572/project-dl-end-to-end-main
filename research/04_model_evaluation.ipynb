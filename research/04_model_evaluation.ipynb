{
 "cells": [
  {
   "cell_type": "code",
   "execution_count": 1,
   "id": "18b14092",
   "metadata": {},
   "outputs": [],
   "source": [
    "import os"
   ]
  },
  {
   "cell_type": "code",
   "execution_count": 2,
   "id": "9c350560",
   "metadata": {},
   "outputs": [
    {
     "data": {
      "text/plain": [
       "'e:\\\\MLops_project\\\\project-dl-end-to-end-main\\\\research'"
      ]
     },
     "execution_count": 2,
     "metadata": {},
     "output_type": "execute_result"
    }
   ],
   "source": [
    "%pwd"
   ]
  },
  {
   "cell_type": "code",
   "execution_count": 3,
   "id": "79749941",
   "metadata": {},
   "outputs": [],
   "source": [
    "os.chdir(\"../\")"
   ]
  },
  {
   "cell_type": "code",
   "execution_count": 4,
   "id": "437774e1",
   "metadata": {},
   "outputs": [
    {
     "data": {
      "text/plain": [
       "'e:\\\\MLops_project\\\\project-dl-end-to-end-main'"
      ]
     },
     "execution_count": 4,
     "metadata": {},
     "output_type": "execute_result"
    }
   ],
   "source": [
    "%pwd"
   ]
  },
  {
   "cell_type": "code",
   "execution_count": 6,
   "id": "98967e4a",
   "metadata": {},
   "outputs": [],
   "source": [
    "# mlflow >> to track experiments"
   ]
  },
  {
   "cell_type": "code",
   "execution_count": 8,
   "id": "a2d2b8ab",
   "metadata": {},
   "outputs": [],
   "source": [
    "#  https://dagshub.com/adiphalke572/my-first-repo.mlflow"
   ]
  },
  {
   "cell_type": "code",
   "execution_count": 9,
   "id": "1f7c4d5c",
   "metadata": {},
   "outputs": [],
   "source": [
    "os.environ[\"MLFLOW_TRACKING_URI\"]=\"https://dagshub.com/adiphalke572/my-first-repo.mlflow\"\n",
    "os.environ[\"MLFLOW_TRACKING_USERNAME\"]=\"adiphalke572\"\n",
    "os.environ[\"MLFLOW_TRACKING_PASSWORD\"]=\"6246c68cb22e8410de95bb97fd9851d60198fab8\""
   ]
  },
  {
   "cell_type": "code",
   "execution_count": null,
   "id": "851fbf27",
   "metadata": {},
   "outputs": [
    {
     "name": "stdout",
     "output_type": "stream",
     "text": [
      "Collecting mlflow\n",
      "  Downloading mlflow-2.21.3-py3-none-any.whl.metadata (30 kB)\n",
      "Collecting mlflow-skinny==2.21.3 (from mlflow)\n",
      "  Downloading mlflow_skinny-2.21.3-py3-none-any.whl.metadata (31 kB)\n",
      "Collecting Flask<4 (from mlflow)\n",
      "  Using cached flask-3.1.0-py3-none-any.whl.metadata (2.7 kB)\n",
      "Collecting Jinja2<4,>=3.0 (from mlflow)\n",
      "  Using cached jinja2-3.1.6-py3-none-any.whl.metadata (2.9 kB)\n",
      "Collecting alembic!=1.10.0,<2 (from mlflow)\n",
      "  Using cached alembic-1.15.2-py3-none-any.whl.metadata (7.3 kB)\n",
      "Collecting docker<8,>=4.0.0 (from mlflow)\n",
      "  Downloading docker-7.1.0-py3-none-any.whl.metadata (3.8 kB)\n",
      "Collecting graphene<4 (from mlflow)\n",
      "  Downloading graphene-3.4.3-py2.py3-none-any.whl.metadata (6.9 kB)\n",
      "Requirement already satisfied: markdown<4,>=3.3 in c:\\users\\aditya\\anaconda3\\envs\\dlenv\\lib\\site-packages (from mlflow) (3.7)\n",
      "Collecting matplotlib<4 (from mlflow)\n",
      "  Using cached matplotlib-3.10.1-cp312-cp312-win_amd64.whl.metadata (11 kB)\n",
      "Requirement already satisfied: numpy<3 in c:\\users\\aditya\\anaconda3\\envs\\dlenv\\lib\\site-packages (from mlflow) (2.1.3)\n",
      "Collecting pandas<3 (from mlflow)\n",
      "  Using cached pandas-2.2.3-cp312-cp312-win_amd64.whl.metadata (19 kB)\n",
      "Requirement already satisfied: pyarrow<20,>=4.0.0 in c:\\users\\aditya\\anaconda3\\envs\\dlenv\\lib\\site-packages (from mlflow) (19.0.1)\n",
      "Collecting scikit-learn<2 (from mlflow)\n",
      "  Using cached scikit_learn-1.6.1-cp312-cp312-win_amd64.whl.metadata (15 kB)\n",
      "Requirement already satisfied: scipy<2 in c:\\users\\aditya\\anaconda3\\envs\\dlenv\\lib\\site-packages (from mlflow) (1.15.2)\n",
      "Collecting sqlalchemy<3,>=1.4.0 (from mlflow)\n",
      "  Using cached sqlalchemy-2.0.40-cp312-cp312-win_amd64.whl.metadata (9.9 kB)\n",
      "Collecting waitress<4 (from mlflow)\n",
      "  Downloading waitress-3.0.2-py3-none-any.whl.metadata (5.8 kB)\n",
      "Collecting cachetools<6,>=5.0.0 (from mlflow-skinny==2.21.3->mlflow)\n",
      "  Downloading cachetools-5.5.2-py3-none-any.whl.metadata (5.4 kB)\n",
      "Collecting click<9,>=7.0 (from mlflow-skinny==2.21.3->mlflow)\n",
      "  Using cached click-8.1.8-py3-none-any.whl.metadata (2.3 kB)\n",
      "Collecting cloudpickle<4 (from mlflow-skinny==2.21.3->mlflow)\n",
      "  Downloading cloudpickle-3.1.1-py3-none-any.whl.metadata (7.1 kB)\n",
      "Collecting databricks-sdk<1,>=0.20.0 (from mlflow-skinny==2.21.3->mlflow)\n",
      "  Downloading databricks_sdk-0.49.0-py3-none-any.whl.metadata (38 kB)\n",
      "Collecting fastapi<1 (from mlflow-skinny==2.21.3->mlflow)\n",
      "  Downloading fastapi-0.115.12-py3-none-any.whl.metadata (27 kB)\n",
      "Collecting gitpython<4,>=3.1.9 (from mlflow-skinny==2.21.3->mlflow)\n",
      "  Using cached GitPython-3.1.44-py3-none-any.whl.metadata (13 kB)\n",
      "Requirement already satisfied: importlib_metadata!=4.7.0,<9,>=3.7.0 in c:\\users\\aditya\\anaconda3\\envs\\dlenv\\lib\\site-packages (from mlflow-skinny==2.21.3->mlflow) (8.6.1)\n",
      "Collecting opentelemetry-api<3,>=1.9.0 (from mlflow-skinny==2.21.3->mlflow)\n",
      "  Downloading opentelemetry_api-1.32.0-py3-none-any.whl.metadata (1.6 kB)\n",
      "Collecting opentelemetry-sdk<3,>=1.9.0 (from mlflow-skinny==2.21.3->mlflow)\n",
      "  Downloading opentelemetry_sdk-1.32.0-py3-none-any.whl.metadata (1.6 kB)\n",
      "Requirement already satisfied: packaging<25 in c:\\users\\aditya\\anaconda3\\envs\\dlenv\\lib\\site-packages (from mlflow-skinny==2.21.3->mlflow) (24.2)\n",
      "Requirement already satisfied: protobuf<6,>=3.12.0 in c:\\users\\aditya\\anaconda3\\envs\\dlenv\\lib\\site-packages (from mlflow-skinny==2.21.3->mlflow) (5.29.4)\n",
      "Collecting pydantic<3,>=1.10.8 (from mlflow-skinny==2.21.3->mlflow)\n",
      "  Downloading pydantic-2.11.3-py3-none-any.whl.metadata (65 kB)\n",
      "Requirement already satisfied: pyyaml<7,>=5.1 in c:\\users\\aditya\\anaconda3\\envs\\dlenv\\lib\\site-packages (from mlflow-skinny==2.21.3->mlflow) (6.0.2)\n",
      "Requirement already satisfied: requests<3,>=2.17.3 in c:\\users\\aditya\\anaconda3\\envs\\dlenv\\lib\\site-packages (from mlflow-skinny==2.21.3->mlflow) (2.32.3)\n",
      "Collecting sqlparse<1,>=0.4.0 (from mlflow-skinny==2.21.3->mlflow)\n",
      "  Using cached sqlparse-0.5.3-py3-none-any.whl.metadata (3.9 kB)\n",
      "Requirement already satisfied: typing-extensions<5,>=4.0.0 in c:\\users\\aditya\\anaconda3\\envs\\dlenv\\lib\\site-packages (from mlflow-skinny==2.21.3->mlflow) (4.13.0)\n",
      "Collecting uvicorn<1 (from mlflow-skinny==2.21.3->mlflow)\n",
      "  Downloading uvicorn-0.34.1-py3-none-any.whl.metadata (6.5 kB)\n",
      "Collecting Mako (from alembic!=1.10.0,<2->mlflow)\n",
      "  Downloading mako-1.3.10-py3-none-any.whl.metadata (2.9 kB)\n",
      "Requirement already satisfied: pywin32>=304 in c:\\users\\aditya\\anaconda3\\envs\\dlenv\\lib\\site-packages (from docker<8,>=4.0.0->mlflow) (307)\n",
      "Requirement already satisfied: urllib3>=1.26.0 in c:\\users\\aditya\\anaconda3\\envs\\dlenv\\lib\\site-packages (from docker<8,>=4.0.0->mlflow) (2.3.0)\n",
      "Requirement already satisfied: Werkzeug>=3.1 in c:\\users\\aditya\\anaconda3\\envs\\dlenv\\lib\\site-packages (from Flask<4->mlflow) (3.1.3)\n",
      "Collecting itsdangerous>=2.2 (from Flask<4->mlflow)\n",
      "  Using cached itsdangerous-2.2.0-py3-none-any.whl.metadata (1.9 kB)\n",
      "Collecting blinker>=1.9 (from Flask<4->mlflow)\n",
      "  Using cached blinker-1.9.0-py3-none-any.whl.metadata (1.6 kB)\n",
      "Collecting graphql-core<3.3,>=3.1 (from graphene<4->mlflow)\n",
      "  Downloading graphql_core-3.2.6-py3-none-any.whl.metadata (11 kB)\n",
      "Collecting graphql-relay<3.3,>=3.1 (from graphene<4->mlflow)\n",
      "  Downloading graphql_relay-3.2.0-py3-none-any.whl.metadata (12 kB)\n",
      "Requirement already satisfied: python-dateutil<3,>=2.7.0 in c:\\users\\aditya\\anaconda3\\envs\\dlenv\\lib\\site-packages (from graphene<4->mlflow) (2.9.0.post0)\n",
      "Requirement already satisfied: MarkupSafe>=2.0 in c:\\users\\aditya\\anaconda3\\envs\\dlenv\\lib\\site-packages (from Jinja2<4,>=3.0->mlflow) (3.0.2)\n",
      "Collecting contourpy>=1.0.1 (from matplotlib<4->mlflow)\n",
      "  Using cached contourpy-1.3.1-cp312-cp312-win_amd64.whl.metadata (5.4 kB)\n",
      "Collecting cycler>=0.10 (from matplotlib<4->mlflow)\n",
      "  Using cached cycler-0.12.1-py3-none-any.whl.metadata (3.8 kB)\n",
      "Collecting fonttools>=4.22.0 (from matplotlib<4->mlflow)\n",
      "  Downloading fonttools-4.57.0-cp312-cp312-win_amd64.whl.metadata (104 kB)\n",
      "Collecting kiwisolver>=1.3.1 (from matplotlib<4->mlflow)\n",
      "  Using cached kiwisolver-1.4.8-cp312-cp312-win_amd64.whl.metadata (6.3 kB)\n",
      "Requirement already satisfied: pillow>=8 in c:\\users\\aditya\\anaconda3\\envs\\dlenv\\lib\\site-packages (from matplotlib<4->mlflow) (11.1.0)\n",
      "Collecting pyparsing>=2.3.1 (from matplotlib<4->mlflow)\n",
      "  Using cached pyparsing-3.2.3-py3-none-any.whl.metadata (5.0 kB)\n",
      "Collecting pytz>=2020.1 (from pandas<3->mlflow)\n",
      "  Downloading pytz-2025.2-py2.py3-none-any.whl.metadata (22 kB)\n",
      "Collecting tzdata>=2022.7 (from pandas<3->mlflow)\n",
      "  Using cached tzdata-2025.2-py2.py3-none-any.whl.metadata (1.4 kB)\n",
      "Requirement already satisfied: joblib>=1.2.0 in c:\\users\\aditya\\anaconda3\\envs\\dlenv\\lib\\site-packages (from scikit-learn<2->mlflow) (1.4.2)\n",
      "Collecting threadpoolctl>=3.1.0 (from scikit-learn<2->mlflow)\n",
      "  Using cached threadpoolctl-3.6.0-py3-none-any.whl.metadata (13 kB)\n",
      "Collecting greenlet>=1 (from sqlalchemy<3,>=1.4.0->mlflow)\n",
      "  Using cached greenlet-3.1.1-cp312-cp312-win_amd64.whl.metadata (3.9 kB)\n",
      "Requirement already satisfied: colorama in c:\\users\\aditya\\anaconda3\\envs\\dlenv\\lib\\site-packages (from click<9,>=7.0->mlflow-skinny==2.21.3->mlflow) (0.4.6)\n",
      "Collecting google-auth~=2.0 (from databricks-sdk<1,>=0.20.0->mlflow-skinny==2.21.3->mlflow)\n",
      "  Downloading google_auth-2.38.0-py2.py3-none-any.whl.metadata (4.8 kB)\n",
      "Collecting starlette<0.47.0,>=0.40.0 (from fastapi<1->mlflow-skinny==2.21.3->mlflow)\n",
      "  Downloading starlette-0.46.2-py3-none-any.whl.metadata (6.2 kB)\n",
      "Collecting gitdb<5,>=4.0.1 (from gitpython<4,>=3.1.9->mlflow-skinny==2.21.3->mlflow)\n",
      "  Using cached gitdb-4.0.12-py3-none-any.whl.metadata (1.2 kB)\n",
      "Requirement already satisfied: zipp>=3.20 in c:\\users\\aditya\\anaconda3\\envs\\dlenv\\lib\\site-packages (from importlib_metadata!=4.7.0,<9,>=3.7.0->mlflow-skinny==2.21.3->mlflow) (3.21.0)\n",
      "Collecting deprecated>=1.2.6 (from opentelemetry-api<3,>=1.9.0->mlflow-skinny==2.21.3->mlflow)\n",
      "  Downloading Deprecated-1.2.18-py2.py3-none-any.whl.metadata (5.7 kB)\n",
      "Collecting opentelemetry-semantic-conventions==0.53b0 (from opentelemetry-sdk<3,>=1.9.0->mlflow-skinny==2.21.3->mlflow)\n",
      "  Downloading opentelemetry_semantic_conventions-0.53b0-py3-none-any.whl.metadata (2.5 kB)\n",
      "Collecting annotated-types>=0.6.0 (from pydantic<3,>=1.10.8->mlflow-skinny==2.21.3->mlflow)\n",
      "  Using cached annotated_types-0.7.0-py3-none-any.whl.metadata (15 kB)\n",
      "Collecting pydantic-core==2.33.1 (from pydantic<3,>=1.10.8->mlflow-skinny==2.21.3->mlflow)\n",
      "  Downloading pydantic_core-2.33.1-cp312-cp312-win_amd64.whl.metadata (6.9 kB)\n",
      "Collecting typing-inspection>=0.4.0 (from pydantic<3,>=1.10.8->mlflow-skinny==2.21.3->mlflow)\n",
      "  Using cached typing_inspection-0.4.0-py3-none-any.whl.metadata (2.6 kB)\n",
      "Requirement already satisfied: six>=1.5 in c:\\users\\aditya\\anaconda3\\envs\\dlenv\\lib\\site-packages (from python-dateutil<3,>=2.7.0->graphene<4->mlflow) (1.17.0)\n",
      "Requirement already satisfied: charset-normalizer<4,>=2 in c:\\users\\aditya\\anaconda3\\envs\\dlenv\\lib\\site-packages (from requests<3,>=2.17.3->mlflow-skinny==2.21.3->mlflow) (3.4.1)\n",
      "Requirement already satisfied: idna<4,>=2.5 in c:\\users\\aditya\\anaconda3\\envs\\dlenv\\lib\\site-packages (from requests<3,>=2.17.3->mlflow-skinny==2.21.3->mlflow) (3.10)\n",
      "Requirement already satisfied: certifi>=2017.4.17 in c:\\users\\aditya\\anaconda3\\envs\\dlenv\\lib\\site-packages (from requests<3,>=2.17.3->mlflow-skinny==2.21.3->mlflow) (2025.1.31)\n",
      "Collecting h11>=0.8 (from uvicorn<1->mlflow-skinny==2.21.3->mlflow)\n",
      "  Using cached h11-0.14.0-py3-none-any.whl.metadata (8.2 kB)\n",
      "Requirement already satisfied: wrapt<2,>=1.10 in c:\\users\\aditya\\anaconda3\\envs\\dlenv\\lib\\site-packages (from deprecated>=1.2.6->opentelemetry-api<3,>=1.9.0->mlflow-skinny==2.21.3->mlflow) (1.17.2)\n",
      "Collecting smmap<6,>=3.0.1 (from gitdb<5,>=4.0.1->gitpython<4,>=3.1.9->mlflow-skinny==2.21.3->mlflow)\n",
      "  Using cached smmap-5.0.2-py3-none-any.whl.metadata (4.3 kB)\n",
      "Collecting pyasn1-modules>=0.2.1 (from google-auth~=2.0->databricks-sdk<1,>=0.20.0->mlflow-skinny==2.21.3->mlflow)\n",
      "  Downloading pyasn1_modules-0.4.2-py3-none-any.whl.metadata (3.5 kB)\n",
      "Collecting rsa<5,>=3.1.4 (from google-auth~=2.0->databricks-sdk<1,>=0.20.0->mlflow-skinny==2.21.3->mlflow)\n",
      "  Downloading rsa-4.9-py3-none-any.whl.metadata (4.2 kB)\n",
      "Collecting anyio<5,>=3.6.2 (from starlette<0.47.0,>=0.40.0->fastapi<1->mlflow-skinny==2.21.3->mlflow)\n",
      "  Using cached anyio-4.9.0-py3-none-any.whl.metadata (4.7 kB)\n",
      "Collecting sniffio>=1.1 (from anyio<5,>=3.6.2->starlette<0.47.0,>=0.40.0->fastapi<1->mlflow-skinny==2.21.3->mlflow)\n",
      "  Using cached sniffio-1.3.1-py3-none-any.whl.metadata (3.9 kB)\n",
      "Collecting pyasn1<0.7.0,>=0.6.1 (from pyasn1-modules>=0.2.1->google-auth~=2.0->databricks-sdk<1,>=0.20.0->mlflow-skinny==2.21.3->mlflow)\n",
      "  Downloading pyasn1-0.6.1-py3-none-any.whl.metadata (8.4 kB)\n",
      "Downloading mlflow-2.21.3-py3-none-any.whl (28.2 MB)\n",
      "   ---------------------------------------- 0.0/28.2 MB ? eta -:--:--\n",
      "    --------------------------------------- 0.5/28.2 MB 4.2 MB/s eta 0:00:07\n",
      "   - -------------------------------------- 1.0/28.2 MB 2.8 MB/s eta 0:00:10\n",
      "   -- ------------------------------------- 1.6/28.2 MB 2.7 MB/s eta 0:00:10\n",
      "   --- ------------------------------------ 2.4/28.2 MB 2.6 MB/s eta 0:00:10\n",
      "   ---- ----------------------------------- 2.9/28.2 MB 2.8 MB/s eta 0:00:10\n",
      "   ---- ----------------------------------- 3.4/28.2 MB 2.7 MB/s eta 0:00:10\n",
      "   ----- ---------------------------------- 3.9/28.2 MB 2.7 MB/s eta 0:00:09\n",
      "   ----- ---------------------------------- 4.2/28.2 MB 2.7 MB/s eta 0:00:09\n",
      "   ------ --------------------------------- 4.5/28.2 MB 2.3 MB/s eta 0:00:11\n",
      "   -------- ------------------------------- 5.8/28.2 MB 2.7 MB/s eta 0:00:09\n",
      "   -------- ------------------------------- 6.3/28.2 MB 2.7 MB/s eta 0:00:09\n",
      "   --------- ------------------------------ 6.8/28.2 MB 2.8 MB/s eta 0:00:08\n",
      "   ---------- ----------------------------- 7.3/28.2 MB 2.7 MB/s eta 0:00:08\n",
      "   ----------- ---------------------------- 7.9/28.2 MB 2.7 MB/s eta 0:00:08\n",
      "   ------------ --------------------------- 8.7/28.2 MB 2.7 MB/s eta 0:00:08\n",
      "   ------------ --------------------------- 9.2/28.2 MB 2.7 MB/s eta 0:00:08\n",
      "   ------------- -------------------------- 9.7/28.2 MB 2.7 MB/s eta 0:00:07\n",
      "   -------------- ------------------------- 10.5/28.2 MB 2.7 MB/s eta 0:00:07\n",
      "   --------------- ------------------------ 10.7/28.2 MB 2.7 MB/s eta 0:00:07\n",
      "   --------------- ------------------------ 11.3/28.2 MB 2.7 MB/s eta 0:00:07\n",
      "   ----------------- ---------------------- 12.1/28.2 MB 2.7 MB/s eta 0:00:06\n",
      "   ----------------- ---------------------- 12.6/28.2 MB 2.7 MB/s eta 0:00:06\n",
      "   ------------------ --------------------- 13.1/28.2 MB 2.7 MB/s eta 0:00:06\n",
      "   ------------------ --------------------- 13.1/28.2 MB 2.7 MB/s eta 0:00:06\n",
      "   ------------------- -------------------- 13.6/28.2 MB 2.6 MB/s eta 0:00:06\n",
      "   -------------------- ------------------- 14.4/28.2 MB 2.6 MB/s eta 0:00:06\n",
      "   --------------------- ------------------ 14.9/28.2 MB 2.6 MB/s eta 0:00:06\n",
      "   --------------------- ------------------ 14.9/28.2 MB 2.6 MB/s eta 0:00:06\n",
      "   --------------------- ------------------ 15.5/28.2 MB 2.5 MB/s eta 0:00:06\n",
      "   ---------------------- ----------------- 16.0/28.2 MB 2.5 MB/s eta 0:00:05\n",
      "   ----------------------- ---------------- 16.3/28.2 MB 2.5 MB/s eta 0:00:05\n",
      "   ------------------------ --------------- 17.0/28.2 MB 2.5 MB/s eta 0:00:05\n",
      "   ------------------------ --------------- 17.6/28.2 MB 2.5 MB/s eta 0:00:05\n",
      "   ------------------------- -------------- 18.1/28.2 MB 2.5 MB/s eta 0:00:05\n",
      "   -------------------------- ------------- 18.9/28.2 MB 2.5 MB/s eta 0:00:04\n",
      "   --------------------------- ------------ 19.4/28.2 MB 2.5 MB/s eta 0:00:04\n",
      "   ---------------------------- ----------- 19.9/28.2 MB 2.5 MB/s eta 0:00:04\n",
      "   ---------------------------- ----------- 20.4/28.2 MB 2.5 MB/s eta 0:00:04\n",
      "   ----------------------------- ---------- 21.0/28.2 MB 2.5 MB/s eta 0:00:03\n",
      "   ------------------------------ --------- 21.5/28.2 MB 2.5 MB/s eta 0:00:03\n",
      "   ------------------------------- -------- 22.0/28.2 MB 2.5 MB/s eta 0:00:03\n",
      "   ------------------------------- -------- 22.5/28.2 MB 2.5 MB/s eta 0:00:03\n",
      "   -------------------------------- ------- 23.1/28.2 MB 2.5 MB/s eta 0:00:03\n",
      "   -------------------------------- ------- 23.1/28.2 MB 2.5 MB/s eta 0:00:03\n",
      "   --------------------------------- ------ 23.9/28.2 MB 2.5 MB/s eta 0:00:02\n",
      "   ---------------------------------- ----- 24.6/28.2 MB 2.5 MB/s eta 0:00:02\n",
      "   ----------------------------------- ---- 25.2/28.2 MB 2.5 MB/s eta 0:00:02\n",
      "   ------------------------------------ --- 26.0/28.2 MB 2.6 MB/s eta 0:00:01\n",
      "   ------------------------------------- -- 26.5/28.2 MB 2.6 MB/s eta 0:00:01\n",
      "   -------------------------------------- - 27.0/28.2 MB 2.6 MB/s eta 0:00:01\n",
      "   -------------------------------------- - 27.3/28.2 MB 2.6 MB/s eta 0:00:01\n",
      "   -------------------------------------- - 27.5/28.2 MB 2.5 MB/s eta 0:00:01\n",
      "   ---------------------------------------  28.0/28.2 MB 2.5 MB/s eta 0:00:01\n",
      "   ---------------------------------------- 28.2/28.2 MB 2.5 MB/s eta 0:00:00\n",
      "Downloading mlflow_skinny-2.21.3-py3-none-any.whl (6.1 MB)\n",
      "   ---------------------------------------- 0.0/6.1 MB ? eta -:--:--\n",
      "   --- ------------------------------------ 0.5/6.1 MB 8.5 MB/s eta 0:00:01\n",
      "   ----- ---------------------------------- 0.8/6.1 MB 2.6 MB/s eta 0:00:03\n",
      "   ---------- ----------------------------- 1.6/6.1 MB 2.7 MB/s eta 0:00:02\n",
      "   ------------- -------------------------- 2.1/6.1 MB 2.9 MB/s eta 0:00:02\n",
      "   ------------------ --------------------- 2.9/6.1 MB 2.9 MB/s eta 0:00:02\n",
      "   ---------------------- ----------------- 3.4/6.1 MB 3.0 MB/s eta 0:00:01\n",
      "   ----------------------- ---------------- 3.7/6.1 MB 3.0 MB/s eta 0:00:01\n",
      "   ------------------------------ --------- 4.7/6.1 MB 2.9 MB/s eta 0:00:01\n",
      "   ---------------------------------- ----- 5.2/6.1 MB 2.9 MB/s eta 0:00:01\n",
      "   ------------------------------------- -- 5.8/6.1 MB 2.9 MB/s eta 0:00:01\n",
      "   ---------------------------------------  6.0/6.1 MB 2.8 MB/s eta 0:00:01\n",
      "   ---------------------------------------- 6.1/6.1 MB 2.7 MB/s eta 0:00:00\n",
      "Using cached alembic-1.15.2-py3-none-any.whl (231 kB)\n",
      "Downloading docker-7.1.0-py3-none-any.whl (147 kB)\n",
      "Downloading flask-3.1.0-py3-none-any.whl (102 kB)\n",
      "Downloading graphene-3.4.3-py2.py3-none-any.whl (114 kB)\n",
      "Using cached jinja2-3.1.6-py3-none-any.whl (134 kB)\n",
      "Using cached matplotlib-3.10.1-cp312-cp312-win_amd64.whl (8.1 MB)\n",
      "Using cached pandas-2.2.3-cp312-cp312-win_amd64.whl (11.5 MB)\n",
      "Using cached scikit_learn-1.6.1-cp312-cp312-win_amd64.whl (11.1 MB)\n",
      "Using cached sqlalchemy-2.0.40-cp312-cp312-win_amd64.whl (2.1 MB)\n",
      "Downloading waitress-3.0.2-py3-none-any.whl (56 kB)\n",
      "Using cached blinker-1.9.0-py3-none-any.whl (8.5 kB)\n",
      "Downloading cachetools-5.5.2-py3-none-any.whl (10 kB)\n",
      "Using cached click-8.1.8-py3-none-any.whl (98 kB)\n",
      "Downloading cloudpickle-3.1.1-py3-none-any.whl (20 kB)\n",
      "Using cached contourpy-1.3.1-cp312-cp312-win_amd64.whl (220 kB)\n",
      "Using cached cycler-0.12.1-py3-none-any.whl (8.3 kB)\n",
      "Downloading databricks_sdk-0.49.0-py3-none-any.whl (683 kB)\n",
      "   ---------------------------------------- 0.0/684.0 kB ? eta -:--:--\n",
      "   --------------- ------------------------ 262.1/684.0 kB ? eta -:--:--\n",
      "   ---------------------------------------- 684.0/684.0 kB 1.9 MB/s eta 0:00:00\n",
      "Downloading fastapi-0.115.12-py3-none-any.whl (95 kB)\n",
      "Downloading fonttools-4.57.0-cp312-cp312-win_amd64.whl (2.2 MB)\n",
      "   ---------------------------------------- 0.0/2.2 MB ? eta -:--:--\n",
      "   ---- ----------------------------------- 0.3/2.2 MB ? eta -:--:--\n",
      "   -------------- ------------------------- 0.8/2.2 MB 1.7 MB/s eta 0:00:01\n",
      "   ----------------------- ---------------- 1.3/2.2 MB 2.0 MB/s eta 0:00:01\n",
      "   --------------------------------- ------ 1.8/2.2 MB 2.3 MB/s eta 0:00:01\n",
      "   ---------------------------------------- 2.2/2.2 MB 2.3 MB/s eta 0:00:00\n",
      "Using cached GitPython-3.1.44-py3-none-any.whl (207 kB)\n",
      "Downloading graphql_core-3.2.6-py3-none-any.whl (203 kB)\n",
      "Downloading graphql_relay-3.2.0-py3-none-any.whl (16 kB)\n",
      "Using cached greenlet-3.1.1-cp312-cp312-win_amd64.whl (299 kB)\n",
      "Using cached itsdangerous-2.2.0-py3-none-any.whl (16 kB)\n",
      "Using cached kiwisolver-1.4.8-cp312-cp312-win_amd64.whl (71 kB)\n",
      "Downloading opentelemetry_api-1.32.0-py3-none-any.whl (65 kB)\n",
      "Downloading opentelemetry_sdk-1.32.0-py3-none-any.whl (118 kB)\n",
      "Downloading opentelemetry_semantic_conventions-0.53b0-py3-none-any.whl (188 kB)\n",
      "Downloading pydantic-2.11.3-py3-none-any.whl (443 kB)\n",
      "Downloading pydantic_core-2.33.1-cp312-cp312-win_amd64.whl (2.0 MB)\n",
      "   ---------------------------------------- 0.0/2.0 MB ? eta -:--:--\n",
      "   ----- ---------------------------------- 0.3/2.0 MB ? eta -:--:--\n",
      "   ---------------- ----------------------- 0.8/2.0 MB 2.0 MB/s eta 0:00:01\n",
      "   -------------------------- ------------- 1.3/2.0 MB 2.1 MB/s eta 0:00:01\n",
      "   ------------------------------------- -- 1.8/2.0 MB 2.3 MB/s eta 0:00:01\n",
      "   ---------------------------------------- 2.0/2.0 MB 2.2 MB/s eta 0:00:00\n",
      "Using cached pyparsing-3.2.3-py3-none-any.whl (111 kB)\n",
      "Downloading pytz-2025.2-py2.py3-none-any.whl (509 kB)\n",
      "Using cached sqlparse-0.5.3-py3-none-any.whl (44 kB)\n",
      "Using cached threadpoolctl-3.6.0-py3-none-any.whl (18 kB)\n",
      "Using cached tzdata-2025.2-py2.py3-none-any.whl (347 kB)\n",
      "Downloading uvicorn-0.34.1-py3-none-any.whl (62 kB)\n",
      "Downloading mako-1.3.10-py3-none-any.whl (78 kB)\n",
      "Using cached annotated_types-0.7.0-py3-none-any.whl (13 kB)\n",
      "Downloading Deprecated-1.2.18-py2.py3-none-any.whl (10.0 kB)\n",
      "Using cached gitdb-4.0.12-py3-none-any.whl (62 kB)\n",
      "Downloading google_auth-2.38.0-py2.py3-none-any.whl (210 kB)\n",
      "Using cached h11-0.14.0-py3-none-any.whl (58 kB)\n",
      "Downloading starlette-0.46.2-py3-none-any.whl (72 kB)\n",
      "Using cached typing_inspection-0.4.0-py3-none-any.whl (14 kB)\n",
      "Using cached anyio-4.9.0-py3-none-any.whl (100 kB)\n",
      "Downloading pyasn1_modules-0.4.2-py3-none-any.whl (181 kB)\n",
      "Downloading rsa-4.9-py3-none-any.whl (34 kB)\n",
      "Using cached smmap-5.0.2-py3-none-any.whl (24 kB)\n",
      "Downloading pyasn1-0.6.1-py3-none-any.whl (83 kB)\n",
      "Using cached sniffio-1.3.1-py3-none-any.whl (10 kB)\n",
      "Installing collected packages: pytz, waitress, tzdata, typing-inspection, threadpoolctl, sqlparse, sniffio, smmap, pyparsing, pydantic-core, pyasn1, Mako, kiwisolver, Jinja2, itsdangerous, h11, greenlet, graphql-core, fonttools, deprecated, cycler, contourpy, cloudpickle, click, cachetools, blinker, annotated-types, uvicorn, sqlalchemy, scikit-learn, rsa, pydantic, pyasn1-modules, pandas, opentelemetry-api, matplotlib, graphql-relay, gitdb, Flask, docker, anyio, starlette, opentelemetry-semantic-conventions, graphene, google-auth, gitpython, alembic, opentelemetry-sdk, fastapi, databricks-sdk, mlflow-skinny, mlflow\n",
      "Successfully installed Flask-3.1.0 Jinja2-3.1.6 Mako-1.3.10 alembic-1.15.2 annotated-types-0.7.0 anyio-4.9.0 blinker-1.9.0 cachetools-5.5.2 click-8.1.8 cloudpickle-3.1.1 contourpy-1.3.1 cycler-0.12.1 databricks-sdk-0.49.0 deprecated-1.2.18 docker-7.1.0 fastapi-0.115.12 fonttools-4.57.0 gitdb-4.0.12 gitpython-3.1.44 google-auth-2.38.0 graphene-3.4.3 graphql-core-3.2.6 graphql-relay-3.2.0 greenlet-3.1.1 h11-0.14.0 itsdangerous-2.2.0 kiwisolver-1.4.8 matplotlib-3.10.1 mlflow-2.21.3 mlflow-skinny-2.21.3 opentelemetry-api-1.32.0 opentelemetry-sdk-1.32.0 opentelemetry-semantic-conventions-0.53b0 pandas-2.2.3 pyasn1-0.6.1 pyasn1-modules-0.4.2 pydantic-2.11.3 pydantic-core-2.33.1 pyparsing-3.2.3 pytz-2025.2 rsa-4.9 scikit-learn-1.6.1 smmap-5.0.2 sniffio-1.3.1 sqlalchemy-2.0.40 sqlparse-0.5.3 starlette-0.46.2 threadpoolctl-3.6.0 typing-inspection-0.4.0 tzdata-2025.2 uvicorn-0.34.1 waitress-3.0.2\n"
     ]
    }
   ],
   "source": [
    "# !pip install mlflow"
   ]
  },
  {
   "cell_type": "code",
   "execution_count": 11,
   "id": "42ac2aa7",
   "metadata": {},
   "outputs": [],
   "source": [
    "import mlflow\n",
    "import os\n",
    "\n",
    "# set mlflow tracking URL\n",
    "mlflow.set_tracking_uri(\"https://dagshub.com/adiphalke572/my-first-repo.mlflow\")\n",
    "\n",
    "# set your DagsHub credentials (MLflow uses HTTP Basic Auth)\n",
    "os.environ[\"MLFLOW_TRACKING_USERNAME\"]=\"adiphalke572\"\n",
    "os.environ[\"MLFLOW_TRACKING_PASSWORD\"]=\"6246c68cb22e8410de95bb97fd9851d60198fab8\""
   ]
  },
  {
   "cell_type": "code",
   "execution_count": 14,
   "id": "cbb16a43",
   "metadata": {},
   "outputs": [
    {
     "name": "stderr",
     "output_type": "stream",
     "text": [
      "WARNING:absl:Compiled the loaded model, but the compiled metrics have yet to be built. `model.compile_metrics` will be empty until you train or evaluate the model.\n"
     ]
    }
   ],
   "source": [
    "import tensorflow as tf\n",
    "model = tf.keras.models.load_model(\"artifacts/training/model.h5\")"
   ]
  },
  {
   "cell_type": "code",
   "execution_count": 15,
   "id": "de4eae5d",
   "metadata": {},
   "outputs": [],
   "source": [
    "# entity"
   ]
  },
  {
   "cell_type": "code",
   "execution_count": 16,
   "id": "a37e7375",
   "metadata": {},
   "outputs": [],
   "source": [
    "from dataclasses import dataclass\n",
    "from pathlib import Path\n",
    "\n",
    "@dataclass(frozen=True)\n",
    "class EvaluationConfig:\n",
    "    path_of_model: Path\n",
    "    training_data: Path\n",
    "    all_params: dict\n",
    "    mlflow_uri: str\n",
    "    params_image_size: list\n",
    "    params_batch_size: int"
   ]
  },
  {
   "cell_type": "code",
   "execution_count": 17,
   "id": "431597d2",
   "metadata": {},
   "outputs": [],
   "source": [
    "# configuration Manager"
   ]
  },
  {
   "cell_type": "code",
   "execution_count": 18,
   "id": "3f140a22",
   "metadata": {},
   "outputs": [],
   "source": [
    "from src.cnnClassifier.constants import *\n",
    "from src.cnnClassifier.utils.comman import read_yaml,create_directories,save_json\n",
    "\n",
    "class ConfigurationManager:\n",
    "    def __init__(\n",
    "        self, \n",
    "        config_filepath = CONFIG_FILE_PATH,\n",
    "        params_filepath = PARAMS_FILE_PATH):\n",
    "        self.config = read_yaml(config_filepath)\n",
    "        self.params = read_yaml(params_filepath)\n",
    "        create_directories([self.config.artifacts_root])\n",
    "\n",
    "    \n",
    "    def get_evaluation_config(self) -> EvaluationConfig:\n",
    "        eval_config = EvaluationConfig(\n",
    "            path_of_model=\"artifacts/training/model.h5\",\n",
    "            training_data=\"artifacts/data_ingestion/kidney-ct-scan-image\",\n",
    "            mlflow_uri=\"https://dagshub.com/adiphalke572/my-first-repo.mlflow\",\n",
    "            all_params=self.params,\n",
    "            params_image_size=self.params.IMAGE_SIZE,\n",
    "            params_batch_size=self.params.BATCH_SIZE\n",
    "        )\n",
    "        return eval_config"
   ]
  },
  {
   "cell_type": "code",
   "execution_count": 19,
   "id": "e2db5a7b",
   "metadata": {},
   "outputs": [],
   "source": [
    "# components"
   ]
  },
  {
   "cell_type": "code",
   "execution_count": 20,
   "id": "d5f9d973",
   "metadata": {},
   "outputs": [],
   "source": [
    "import tensorflow as tf\n",
    "from pathlib import Path\n",
    "import mlflow\n",
    "import mlflow.keras\n",
    "from urllib.parse import urlparse"
   ]
  },
  {
   "cell_type": "code",
   "execution_count": 21,
   "id": "5b033f73",
   "metadata": {},
   "outputs": [],
   "source": [
    "class Evaluation:\n",
    "    def __init__(self, config: EvaluationConfig):\n",
    "        self.config = config\n",
    "\n",
    "    \n",
    "    def _valid_generator(self):\n",
    "\n",
    "        datagenerator_kwargs = dict(\n",
    "            rescale = 1./255,\n",
    "            validation_split=0.30\n",
    "        )\n",
    "\n",
    "        dataflow_kwargs = dict(\n",
    "            target_size=self.config.params_image_size[:-1],\n",
    "            batch_size=self.config.params_batch_size,\n",
    "            interpolation=\"bilinear\"\n",
    "        )\n",
    "\n",
    "        valid_datagenerator = tf.keras.preprocessing.image.ImageDataGenerator(\n",
    "            **datagenerator_kwargs\n",
    "        )\n",
    "\n",
    "        self.valid_generator = valid_datagenerator.flow_from_directory(\n",
    "            directory=self.config.training_data,\n",
    "            subset=\"validation\",\n",
    "            shuffle=False,\n",
    "            **dataflow_kwargs\n",
    "        )\n",
    "\n",
    "\n",
    "    @staticmethod\n",
    "    def load_model(path: Path) -> tf.keras.Model:\n",
    "        return tf.keras.models.load_model(path)\n",
    "    \n",
    "\n",
    "    def evaluation(self):\n",
    "        self.model = self.load_model(self.config.path_of_model)\n",
    "        self._valid_generator()\n",
    "        self.score = model.evaluate(self.valid_generator)\n",
    "        self.save_score()\n",
    "\n",
    "    def save_score(self):\n",
    "        scores = {\"loss\": self.score[0], \"accuracy\": self.score[1]}\n",
    "        save_json(path=Path(\"scores.json\"), data=scores)\n",
    "\n",
    "    \n",
    "    def log_into_mlflow(self):\n",
    "        mlflow.set_registry_uri(self.config.mlflow_uri)\n",
    "        tracking_url_type_store = urlparse(mlflow.get_tracking_uri()).scheme\n",
    "        \n",
    "        with mlflow.start_run():\n",
    "            mlflow.log_params(self.config.all_params)\n",
    "            mlflow.log_metrics(\n",
    "                {\"loss\": self.score[0], \"accuracy\": self.score[1]}\n",
    "            )\n",
    "            # Model registry does not work with file store\n",
    "            if tracking_url_type_store != \"file\":\n",
    "\n",
    "                # Register the model\n",
    "                # There are other ways to use the Model Registry, which depends on the use case,\n",
    "                # please refer to the doc for more information:\n",
    "                # https://mlflow.org/docs/latest/model-registry.html#api-workflow\n",
    "                mlflow.keras.log_model(self.model, \"model\", registered_model_name=\"VGG16Model\")\n",
    "            else:\n",
    "                mlflow.keras.log_model(self.model, \"model\")"
   ]
  },
  {
   "cell_type": "code",
   "execution_count": 22,
   "id": "8118d33f",
   "metadata": {},
   "outputs": [],
   "source": [
    "# pipeline"
   ]
  },
  {
   "cell_type": "code",
   "execution_count": 23,
   "id": "6004913a",
   "metadata": {},
   "outputs": [
    {
     "name": "stderr",
     "output_type": "stream",
     "text": [
      "WARNING:absl:Compiled the loaded model, but the compiled metrics have yet to be built. `model.compile_metrics` will be empty until you train or evaluate the model.\n"
     ]
    },
    {
     "name": "stdout",
     "output_type": "stream",
     "text": [
      "Found 139 images belonging to 2 classes.\n"
     ]
    },
    {
     "name": "stderr",
     "output_type": "stream",
     "text": [
      "c:\\Users\\ADITYA\\anaconda3\\envs\\dlenv\\Lib\\site-packages\\keras\\src\\trainers\\data_adapters\\py_dataset_adapter.py:121: UserWarning: Your `PyDataset` class should call `super().__init__(**kwargs)` in its constructor. `**kwargs` can include `workers`, `use_multiprocessing`, `max_queue_size`. Do not pass these arguments to `fit()`, as they will be ignored.\n",
      "  self._warn_if_super_not_called()\n"
     ]
    },
    {
     "name": "stdout",
     "output_type": "stream",
     "text": [
      "\u001b[1m9/9\u001b[0m \u001b[32m━━━━━━━━━━━━━━━━━━━━\u001b[0m\u001b[37m\u001b[0m \u001b[1m21s\u001b[0m 2s/step - accuracy: 0.4873 - loss: 0.8917\n"
     ]
    },
    {
     "name": "stderr",
     "output_type": "stream",
     "text": [
      "2025/04/14 14:50:45 WARNING mlflow.keras.save: You are saving a Keras model without specifying model signature.\n",
      "2025/04/14 14:51:04 WARNING mlflow.models.model: Model logged without a signature and input example. Please set `input_example` parameter when logging the model to auto infer the model signature.\n",
      "Successfully registered model 'VGG16Model'.\n",
      "2025/04/14 14:52:36 INFO mlflow.store.model_registry.abstract_store: Waiting up to 300 seconds for model version to finish creation. Model name: VGG16Model, version 1\n",
      "Created version '1' of model 'VGG16Model'.\n"
     ]
    },
    {
     "name": "stdout",
     "output_type": "stream",
     "text": [
      "🏃 View run adaptable-quail-623 at: https://dagshub.com/adiphalke572/my-first-repo.mlflow/#/experiments/0/runs/e04e1ce49a374d6d8305215ad0c98d5c\n",
      "🧪 View experiment at: https://dagshub.com/adiphalke572/my-first-repo.mlflow/#/experiments/0\n"
     ]
    }
   ],
   "source": [
    "try:\n",
    "    config = ConfigurationManager()\n",
    "    eval_config = config.get_evaluation_config()\n",
    "    evaluation = Evaluation(eval_config)\n",
    "    evaluation.evaluation()\n",
    "    evaluation.log_into_mlflow()\n",
    "\n",
    "except Exception as e:\n",
    "   raise e"
   ]
  },
  {
   "cell_type": "code",
   "execution_count": null,
   "id": "265bc8f8",
   "metadata": {},
   "outputs": [],
   "source": []
  }
 ],
 "metadata": {
  "kernelspec": {
   "display_name": "dlenv",
   "language": "python",
   "name": "python3"
  },
  "language_info": {
   "codemirror_mode": {
    "name": "ipython",
    "version": 3
   },
   "file_extension": ".py",
   "mimetype": "text/x-python",
   "name": "python",
   "nbconvert_exporter": "python",
   "pygments_lexer": "ipython3",
   "version": "3.12.9"
  }
 },
 "nbformat": 4,
 "nbformat_minor": 5
}
